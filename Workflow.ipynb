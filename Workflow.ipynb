{
  "nbformat": 4,
  "nbformat_minor": 0,
  "metadata": {
    "colab": {
      "name": "Workflow.ipynb",
      "provenance": [],
      "collapsed_sections": [
        "vDkEviXVqSMR",
        "TI39xNEE4QBr",
        "unt2FrFuzI3p",
        "UzOOQ8nHTyhW"
      ],
      "authorship_tag": "ABX9TyPDst5jDQhgPxU02tiUUUfM",
      "include_colab_link": true
    },
    "kernelspec": {
      "name": "python3",
      "display_name": "Python 3"
    },
    "language_info": {
      "name": "python"
    }
  },
  "cells": [
    {
      "cell_type": "markdown",
      "metadata": {
        "id": "view-in-github",
        "colab_type": "text"
      },
      "source": [
        "<a href=\"https://colab.research.google.com/github/ffer200395/Arthropod-proteins-classification/blob/main/Workflow.ipynb\" target=\"_parent\"><img src=\"https://colab.research.google.com/assets/colab-badge.svg\" alt=\"Open In Colab\"/></a>"
      ]
    },
    {
      "cell_type": "code",
      "metadata": {
        "id": "Gpn3vX1fvF-t"
      },
      "source": [
        "!pip install Bio\n",
        "!pip install keras-tuner --upgrade\n",
        "!pip install tensorflow-addons"
      ],
      "execution_count": null,
      "outputs": []
    },
    {
      "cell_type": "code",
      "metadata": {
        "id": "pRJaOYYOLshw"
      },
      "source": [
        "import os\n",
        "import numpy as np\n",
        "from numpy import random\n",
        "import pandas as pd\n",
        "from tqdm import tqdm\n",
        "from google.colab import drive\n",
        "\n",
        "import pickle\n",
        "import json\n",
        "import shlex\n",
        "import subprocess\n",
        "from bs4 import BeautifulSoup\n",
        "\n",
        "from Bio import SeqIO\n",
        "from sklearn.model_selection import train_test_split\n",
        "from sklearn.decomposition import TruncatedSVD\n",
        "import pickle\n",
        "\n",
        "import keras\n",
        "import keras_tuner as kt\n",
        "import keras.backend as K\n",
        "from tensorflow_addons.metrics import F1Score as f1\n",
        "from keras.models import Sequential\n",
        "from keras.callbacks import EarlyStopping\n",
        "from keras.layers import Input, Dropout, Dense, BatchNormalization, LSTM, SimpleRNN\n",
        "from keras.metrics import *\n",
        "from keras.utils.vis_utils import plot_model\n",
        "\n",
        "from sklearn.metrics import *\n",
        "import matplotlib.pyplot as plt\n",
        "import matplotlib.patches as mpatches\n",
        "\n",
        "from sklearn.metrics import roc_curve\n",
        "from sklearn.metrics import RocCurveDisplay\n",
        "\n",
        "from numpy.random import seed, rand, randint\n",
        "from numpy import mean, median, percentile"
      ],
      "execution_count": null,
      "outputs": []
    },
    {
      "cell_type": "code",
      "metadata": {
        "colab": {
          "base_uri": "https://localhost:8080/"
        },
        "id": "tEdgRG_lMFhS",
        "outputId": "08015f1a-3d2c-4017-b1c6-606331da52e1"
      },
      "source": [
        "# Path\n",
        "path = '/content/gdrive/MyDrive/TFM/arthropod proteins classification/data/'\n",
        "# Mount drive\n",
        "drive.mount('/content/gdrive')"
      ],
      "execution_count": null,
      "outputs": [
        {
          "output_type": "stream",
          "name": "stdout",
          "text": [
            "Drive already mounted at /content/gdrive; to attempt to forcibly remount, call drive.mount(\"/content/gdrive\", force_remount=True).\n"
          ]
        }
      ]
    },
    {
      "cell_type": "markdown",
      "metadata": {
        "id": "vDkEviXVqSMR"
      },
      "source": [
        "# Step 0: Scan sequences\n",
        "\n",
        "## Once amino acid sequences have been downloaded from UniProt:\n",
        "\n",
        "- Sequences are scanned using the tool hmmscan from EMBL-EBI API so raw results from all sequences about its domain is obtained.\n",
        "\n",
        "- Raw results are stored in order to apply a filtering criteria later."
      ]
    },
    {
      "cell_type": "code",
      "metadata": {
        "id": "xbeIWHkLmMX6"
      },
      "source": [
        "def create_temp(id, seq, temp_file):\n",
        "  \"\"\"Create a temp file for a sequence before APi call is done\n",
        "\n",
        "  Parameters\n",
        "  ----------\n",
        "  id : str\n",
        "      ID of the sequence to be scanned\n",
        "  seq : str\n",
        "      Sequence to be scanned\n",
        "  Returns\n",
        "  -------\n",
        "  None\n",
        "      It creates a file called temp.seq\n",
        "  \"\"\"\n",
        "  f = open(temp_file, \"w\")\n",
        "  f.write(f\">{id}\\n{seq}\")\n",
        "  f.close()\n",
        "\n",
        "def call_curl(curl):\n",
        "    \"\"\"Makes the API call for a sequence stored in a temp file\n",
        "\n",
        "    Parameters\n",
        "    ----------\n",
        "    curl : str\n",
        "        Command used to make API call\n",
        "    Returns\n",
        "    -------\n",
        "    str\n",
        "        Raw output as a string from HMMER API\n",
        "    \"\"\"\n",
        "    args = shlex.split(curl)\n",
        "    process = subprocess.Popen(args, shell=False, stdout=subprocess.PIPE, stderr=subprocess.PIPE)\n",
        "    stdout, _ = process.communicate()\n",
        "    return stdout\n",
        "\n",
        "def scan_seqs(seq_path, temp_file, curl):\n",
        "  \"\"\"Scans and all sequences contained in FASTA files\n",
        "\n",
        "  Parameters\n",
        "  ----------\n",
        "  seq_path : str\n",
        "      Location of FASTA files\n",
        "  temp_file : str\n",
        "      Location for temp file to be created\n",
        "  curl : str\n",
        "      Command used to make API call\n",
        "  Returns\n",
        "  -------\n",
        "  DataFrame\n",
        "      Columns: Sequence ID, Sequence, Category of the sequence, Output from API\n",
        "  \"\"\"\n",
        "  files = os.listdir(seq_path)\n",
        "  l_id, l_seq, l_cat, l_out, l_len = [], [], [], [], []\n",
        "  # Every FASTA file is parsed\n",
        "  for file in files:\n",
        "    inFile = open(seq_path+file,'r')\n",
        "    records = SeqIO.parse(inFile,'fasta')\n",
        "    n_records = 0\n",
        "    # For each record a temp file is created and then scanned\n",
        "    for record in tqdm(records):\n",
        "      n_records+=1\n",
        "      create_temp(record.id, record.seq, temp_file)\n",
        "      output = call_curl(curl)\n",
        "      # Store data\n",
        "      l_id.append(record.id)\n",
        "      l_seq.append(str(record.seq))\n",
        "      l_out.append(output)\n",
        "      l_len.append(len(record.seq))\n",
        "    l_cat+=[file.split('.')[0]]*n_records\n",
        "  # DataFrame to be returned\n",
        "  df_res = pd.DataFrame(list(zip(l_id,l_seq,l_cat,l_out,l_len)),columns = ['ID','Seq','Category','Output','Length'])\n",
        "  return df_res"
      ],
      "execution_count": null,
      "outputs": []
    },
    {
      "cell_type": "code",
      "metadata": {
        "id": "7j3j8v8gvi-j"
      },
      "source": [
        "# Scan all sequences\n",
        "temp_file = path+'temp.seq'\n",
        "curl = f\"curl -L -H 'Expect:' -H 'Accept:text/xml' -F hmmdb=pfam -F seq='<{temp_file}' https://www.ebi.ac.uk/Tools/hmmer/search/hmmscan\"\n",
        "df_scanned = scan_seqs(path+'sequences/', temp_file, curl)\n",
        "df_scanned.to_csv(path+'df_scanned.csv')"
      ],
      "execution_count": null,
      "outputs": []
    },
    {
      "cell_type": "markdown",
      "metadata": {
        "id": "TI39xNEE4QBr"
      },
      "source": [
        "# Step 1: Apply filter\n",
        "## Process API raw results to apply a filter:\n",
        "- All hits must belong to the specified pfam\n",
        "- All hits belonging evalue must have a evalue less or equal than a specified threshold\n",
        "- Calculated domain must be higher or equal to a specified percentage\n"
      ]
    },
    {
      "cell_type": "code",
      "metadata": {
        "id": "YftQ0IwLsgqS"
      },
      "source": [
        "def get_domain_pct(ls_domains, length):\n",
        "  \"\"\"Calculates the percentage of domain present in the sequence\n",
        "  Parameters\n",
        "  ----------\n",
        "  ls_domains : list \n",
        "      List of locations where domain has been detected in the sequence\n",
        "  length : int\n",
        "      Length of the domain associated to pfam\n",
        "  Returns\n",
        "  -------\n",
        "  float\n",
        "      Percentage of domain present in the sequence\n",
        "  \"\"\"\n",
        "  # Initially we assume no presence of the domain\n",
        "  idxs = np.zeros((length,), dtype=int)\n",
        "  for dom in ls_domains:\n",
        "    # For every domain start and end indexes are obtained\n",
        "    start, end = int(dom['alihmmfrom']), int(dom['alihmmto'])\n",
        "    # We set to one all indexes within start and end idxs\n",
        "    idxs[start-1:end]=1\n",
        "  # Sum all indexes where domain has been present (thus overlapped segment are counted once), divide it over domain length\n",
        "  return sum(idxs)/length\n",
        "\n",
        "def seq_filter(output, pfam, length, eval):\n",
        "  \"\"\"Applies the filter criterium\n",
        "  Parameters\n",
        "  ----------\n",
        "  output : str \n",
        "      sequence API output\n",
        "  pfam : str\n",
        "      Protein family (code) associated to sequences' category\n",
        "  length : int\n",
        "      Length of the domain associated to pfam\n",
        "  eval : float\n",
        "      Minimum evalue required\n",
        "  Returns\n",
        "  -------\n",
        "  float\n",
        "      Percentage of domain present in the sequence\n",
        "  \"\"\"\n",
        "  soup = BeautifulSoup(str(output.splitlines()), \"html.parser\")\n",
        "  ls_hits = soup.findAll(\"hits\")\n",
        "  # First all hits must belong to the same protein family (pfam)\n",
        "  ls_hits_pfam = [hit for hit in ls_hits if hit['acc'].split('.')[0].lower()==pfam]\n",
        "  # Second all hits of pfam which evalue is less or equal than eval\n",
        "  ls_hits_evalue = [hit for hit in ls_hits_pfam if float(hit['evalue'])<=eval]\n",
        "  # If after filtering by evalue there is nothing left or we found hits belonging to different pfams sequence is discarded\n",
        "  if len(ls_hits_evalue)==0 or len(ls_hits)!=len(ls_hits_pfam):\n",
        "    return 0.0\n",
        "  # Third percentage of present domain is calculated\n",
        "  else:\n",
        "    domains = ls_hits_evalue[0].findAll(\"domains\")\n",
        "    dom_pct = get_domain_pct(domains, length)\n",
        "    return dom_pct\n",
        "\n",
        "def apply_filter(df, pfam_info, eval=1.e-6):\n",
        "  \"\"\"Applies the filter to all sequences\n",
        "  Parameters\n",
        "  ----------\n",
        "  df : DataFrame \n",
        "      DataFrame with sequences and outputs from API\n",
        "  pfam_info : dict\n",
        "      Dictionary containing pfam code and domain length of each category \n",
        "  eval : float\n",
        "      Minimum evalue required\n",
        "  Returns\n",
        "  -------\n",
        "  DataFrame with an extra column for percentage of domain\n",
        "  \"\"\"\n",
        "  l_dom = []\n",
        "  categories, outputs = df['Category'], df['Output']\n",
        "  for i,out in tqdm(enumerate(outputs)):\n",
        "    # pfam code a length are obtained for each category\n",
        "    pfam, length = pfam_info[categories[i].split('_')[0].lower()]\n",
        "    # filter is applied and result is stored\n",
        "    dom_pct = seq_filter(out, pfam, length, eval)\n",
        "    l_dom.append(dom_pct)\n",
        "  df['Domain_pct'] = l_dom\n",
        "  return df"
      ],
      "execution_count": null,
      "outputs": []
    },
    {
      "cell_type": "code",
      "metadata": {
        "colab": {
          "base_uri": "https://localhost:8080/"
        },
        "id": "-EbpqdH0ysRh",
        "outputId": "4a444af7-b9d6-4096-fc6d-c80b7ef5c3ed"
      },
      "source": [
        "# Read results from scanned sequences\n",
        "df_scanned = pd.read_csv(path+'df_scanned.csv',index_col=0)\n",
        "\n",
        "# Filter all sequences and store them\n",
        "pfam_info = {'gr':('pf08395',371), 'or':('pf02949',313)} # Domain info for OR and GR\n",
        "e_val = 1.e-6\n",
        "domain_pct = 0.6 # At least 60% of the domain\n",
        "\n",
        "df_filt = apply_filter(df_scanned, pfam_info, eval=e_val)\n",
        "df_filt = df_filt[df_filt.Domain_pct>=domain_pct]\n",
        "df_filt.to_csv(path+'df_filtered.csv')"
      ],
      "execution_count": null,
      "outputs": [
        {
          "output_type": "stream",
          "name": "stderr",
          "text": [
            "19474it [00:15, 1220.19it/s]\n"
          ]
        }
      ]
    },
    {
      "cell_type": "markdown",
      "metadata": {
        "id": "6E-sFE4jLf2r"
      },
      "source": [
        "# Step 2: Encode sequences"
      ]
    },
    {
      "cell_type": "markdown",
      "metadata": {
        "id": "unt2FrFuzI3p"
      },
      "source": [
        "  ## As a previous step a standard length needs to be determined:"
      ]
    },
    {
      "cell_type": "code",
      "metadata": {
        "id": "GW8aMrnk0_mN",
        "colab": {
          "base_uri": "https://localhost:8080/",
          "height": 712
        },
        "outputId": "8824c2fa-2b04-4663-b10a-f77d7ea411a5"
      },
      "source": [
        "# In order to analise sequences length by category and globally\n",
        "df_filt = pd.read_csv(path+'df_filtered.csv',index_col=0)\n",
        "\n",
        "df_filt.boxplot(column='Length',by='Category',figsize=(7,5))\n",
        "plt.ylabel('Sequence length')\n",
        "df_filt.hist('Length',bins=range(0,max(df_filt['Length'])+1,1))\n",
        "plt.title('Number of sequences by length')\n",
        "plt.ylabel('Number of sequences')\n",
        "plt.xlabel('Length')"
      ],
      "execution_count": null,
      "outputs": [
        {
          "output_type": "stream",
          "name": "stderr",
          "text": [
            "/usr/local/lib/python3.7/dist-packages/numpy/core/_asarray.py:83: VisibleDeprecationWarning: Creating an ndarray from ragged nested sequences (which is a list-or-tuple of lists-or-tuples-or ndarrays with different lengths or shapes) is deprecated. If you meant to do this, you must specify 'dtype=object' when creating the ndarray\n",
            "  return array(a, dtype, copy=False, order=order)\n"
          ]
        },
        {
          "output_type": "execute_result",
          "data": {
            "text/plain": [
              "Text(0.5, 0, 'Length')"
            ]
          },
          "metadata": {},
          "execution_count": 12
        },
        {
          "output_type": "display_data",
          "data": {
            "image/png": "[encoded data removed]",
            "text/plain": [
              "<Figure size 504x360 with 1 Axes>"
            ]
          },
          "metadata": {
            "needs_background": "light"
          }
        },
        {
          "output_type": "display_data",
          "data": {
            "image/png": "[encoded data removed]",
            "text/plain": [
              "<Figure size 432x288 with 1 Axes>"
            ]
          },
          "metadata": {
            "needs_background": "light"
          }
        }
      ]
    },
    {
      "cell_type": "code",
      "metadata": {
        "colab": {
          "base_uri": "https://localhost:8080/"
        },
        "id": "L-BKxQgOu56l",
        "outputId": "13fd0041-3b5a-49f5-cda9-8bca2cfabe3e"
      },
      "source": [
        "mask = df_filt.Length<=600\n",
        "# Percentage of sequences with lenght less or equal than 600\n",
        "print(len(df_filt[mask])/len(df_filt)*100)"
      ],
      "execution_count": null,
      "outputs": [
        {
          "output_type": "stream",
          "name": "stdout",
          "text": [
            "98.226122088252\n"
          ]
        }
      ]
    },
    {
      "cell_type": "code",
      "metadata": {
        "colab": {
          "base_uri": "https://localhost:8080/",
          "height": 712
        },
        "id": "pw2qqiy_83YN",
        "outputId": "9c5cb5e3-9d01-4498-d754-401765375080"
      },
      "source": [
        "# Boxplot and histogram with 600 threshold\n",
        "df_filt[mask].boxplot(column='Length',by='Category',figsize=(7,5))\n",
        "plt.ylabel('Sequence length')\n",
        "\n",
        "df_filt[mask].hist('Length',bins=range(0,max(df_filt[mask]['Length'])+1,1))\n",
        "plt.title('Number of sequences by length')\n",
        "plt.ylabel('Number of sequences')\n",
        "plt.xlabel('Length')"
      ],
      "execution_count": null,
      "outputs": [
        {
          "output_type": "stream",
          "name": "stderr",
          "text": [
            "/usr/local/lib/python3.7/dist-packages/numpy/core/_asarray.py:83: VisibleDeprecationWarning: Creating an ndarray from ragged nested sequences (which is a list-or-tuple of lists-or-tuples-or ndarrays with different lengths or shapes) is deprecated. If you meant to do this, you must specify 'dtype=object' when creating the ndarray\n",
            "  return array(a, dtype, copy=False, order=order)\n"
          ]
        },
        {
          "output_type": "execute_result",
          "data": {
            "text/plain": [
              "Text(0.5, 0, 'Length')"
            ]
          },
          "metadata": {},
          "execution_count": 15
        },
        {
          "output_type": "display_data",
          "data": {
            "image/png": "[encoded data removed]",
            "text/plain": [
              "<Figure size 504x360 with 1 Axes>"
            ]
          },
          "metadata": {
            "needs_background": "light"
          }
        },
        {
          "output_type": "display_data",
          "data": {
            "image/png": "[encoded data removed]",
            "text/plain": [
              "<Figure size 432x288 with 1 Axes>"
            ]
          },
          "metadata": {
            "needs_background": "light"
          }
        }
      ]
    },
    {
      "cell_type": "markdown",
      "metadata": {
        "id": "UzOOQ8nHTyhW"
      },
      "source": [
        "  ## After maximun length is selected we can start with encoding and padding"
      ]
    },
    {
      "cell_type": "code",
      "metadata": {
        "id": "Adv0ucovLlx0"
      },
      "source": [
        "def get_df_encoded(df, max_len, codes):\n",
        "  \"\"\"Generates a dataframe of encoded sequences\n",
        "  Parameters\n",
        "  ----------\n",
        "  df : DataFrame \n",
        "      DataFrame with sequences to be enconded\n",
        "  max_len : int \n",
        "      Max length of the sequence\n",
        "  codes : dict\n",
        "      Dictionary where each key is an amino acid and each value is its corresponding vector\n",
        "  Returns\n",
        "  -------\n",
        "  pandas Dataframe\n",
        "      Columns:Seq_ID, Seq, Category\n",
        "  \"\"\"\n",
        "  ids, seqs, cats = df['ID'].values,df['Seq'],df['Category'].values\n",
        "  n_features, ls_ids, ls_enc, ls_cat = len(list(codes.values())[0]), [], [], []\n",
        "  for i,seq in tqdm(enumerate(seqs)):\n",
        "    seq_aux = list(seq)\n",
        "    # Only naturally occurring AA are considered\n",
        "    if set(seq_aux).issubset(codes.keys()):\n",
        "      # Encoding\n",
        "      seq_enc = np.array([codes[aa] for aa in seq_aux],dtype=float).flatten()\n",
        "      # Zero post-padding\n",
        "      n_zero = (max_len*n_features)-len(seq_enc)\n",
        "      seq_pad = np.pad(seq_enc, (0,n_zero), constant_values=0)\n",
        "      # Store data\n",
        "      ls_ids.append(ids[i])\n",
        "      ls_cat.append(cats[i])\n",
        "      ls_enc.append(list(seq_pad))\n",
        "  cols=[f'F_{i}' for i in range(max_len*n_features)]\n",
        "  res = pd.DataFrame(data=np.array(ls_enc),columns=cols)\n",
        "  res['Seq_ID'] = ls_ids\n",
        "  res['Category'] = ls_cat\n",
        "  res.set_index('Seq_ID', inplace=True)\n",
        "  return res"
      ],
      "execution_count": null,
      "outputs": []
    },
    {
      "cell_type": "code",
      "metadata": {
        "id": "qREEQ8rWMPs5",
        "colab": {
          "base_uri": "https://localhost:8080/"
        },
        "outputId": "9f46e238-b01b-45e3-850f-58cedcd30096"
      },
      "source": [
        "# Sequences to be encoded\n",
        "max_len = 600\n",
        "df_to_encode = df_filt[df_filt.Length<=max_len]\n",
        "\n",
        "# Load dictionaries of encondings\n",
        "with open(path+'encodings.json') as json_file:\n",
        "  d_codes = json.load(json_file)\n",
        "\n",
        "for enc in ['10-factor', 'phy-chem', '1-hot']:\n",
        "    df_encoded = get_df_encoded(df_to_encode, max_len, d_codes[enc])\n",
        "    df_encoded.to_csv(path+f'df_encoded_{enc}.csv')"
      ],
      "execution_count": null,
      "outputs": [
        {
          "output_type": "stream",
          "name": "stderr",
          "text": [
            "15560it [00:17, 901.84it/s]\n",
            "15560it [00:11, 1332.25it/s]\n",
            "15560it [00:26, 579.51it/s]\n"
          ]
        }
      ]
    },
    {
      "cell_type": "code",
      "metadata": {
        "colab": {
          "base_uri": "https://localhost:8080/"
        },
        "id": "EYPl4nIfmklm",
        "outputId": "15adf32e-f07b-4e3a-b1b5-cc5f0bdda7f0"
      },
      "source": [
        "print(f'From {len(df_filt)} to {len(df_encoded)} sequences')\n",
        "\n",
        "# Percentage of samples per category\n",
        "print(df_encoded['Category'].value_counts(normalize=True) * 100)"
      ],
      "execution_count": null,
      "outputs": [
        {
          "output_type": "stream",
          "name": "stdout",
          "text": [
            "From 15841 to 15222 sequences\n",
            "OR_uncurated    70.352122\n",
            "GR_uncurated    28.984365\n",
            "OR_curated       0.341611\n",
            "GR_curated       0.321903\n",
            "Name: Category, dtype: float64\n"
          ]
        }
      ]
    },
    {
      "cell_type": "markdown",
      "metadata": {
        "id": "vjGtbBzCcwNf"
      },
      "source": [
        "# Step 3: Split the dataset into train, validation, test sets\n",
        "\n",
        "- 60% for training dataset, 20% for validation, 20% for testing"
      ]
    },
    {
      "cell_type": "code",
      "metadata": {
        "id": "PTLEgJtkb6M0"
      },
      "source": [
        "def get_datasets(filename):\n",
        "  df_encoded = pd.read_csv(filename, index_col='Seq_ID')\n",
        "\n",
        "  # Separate curated and uncurated sequences\n",
        "  df_curated = df_encoded[(df_encoded.Category=='GR_curated')|(df_encoded.Category=='OR_curated')].copy()\n",
        "  df_uncurated = df_encoded[(df_encoded.Category=='GR_uncurated')|(df_encoded.Category=='OR_uncurated')].copy()\n",
        "\n",
        "  # Convert category into binary\n",
        "  df_curated[\"Category\"].replace({\"GR_uncurated\":0,\"GR_curated\":0,\"OR_uncurated\":1,\"OR_curated\":1}, inplace=True)\n",
        "  df_uncurated[\"Category\"].replace({\"GR_uncurated\":0,\"GR_curated\":0,\"OR_uncurated\":1,\"OR_curated\":1}, inplace=True)\n",
        "\n",
        "  # Get X matrix and y vector\n",
        "  X, X_c = np.array(df_uncurated.iloc[:,:-1]), np.array(df_curated.iloc[:,:-1])\n",
        "  y, y_c = df_uncurated['Category'].values, df_curated['Category'].values\n",
        "\n",
        "  # Rule of 60-20-20\n",
        "  X_train, X_aux, y_train, y_aux = train_test_split(X, y, test_size=0.4, random_state=123, shuffle=True) \n",
        "  X_val, X_test, y_val, y_test = train_test_split(X_aux, y_aux, test_size=0.5, random_state=123, shuffle=True) \n",
        "\n",
        "  return X, y, X_train, X_val, X_test, X_c, y_train, y_val, y_test, y_c"
      ],
      "execution_count": null,
      "outputs": []
    },
    {
      "cell_type": "code",
      "metadata": {
        "id": "DfpsfuHgqtDa"
      },
      "source": [
        "# Encoding is specified and dataset is splitted\n",
        "encoding = '10-factor'\n",
        "X, y, X_train, X_val, X_test, X_c, y_train, y_val, y_test, y_c = get_datasets(path+f'df_encoded_{encoding}.csv')"
      ],
      "execution_count": null,
      "outputs": []
    },
    {
      "cell_type": "markdown",
      "metadata": {
        "id": "F24BPnFqoC3S"
      },
      "source": [
        "# Step 4: Dimensionality reduction"
      ]
    },
    {
      "cell_type": "code",
      "source": [
        "# Fit TruncatedSVD just with training set and apply it to validation and test sets\n",
        "svd = TruncatedSVD(n_components=850).fit(X_train)\n",
        "\n",
        "# Explained variance\n",
        "sum(svd.explained_variance_ratio_)"
      ],
      "metadata": {
        "colab": {
          "base_uri": "https://localhost:8080/"
        },
        "id": "gELFo7JHYMEl",
        "outputId": "12c626f0-218a-43cb-b7a0-f4c55c3971c0"
      },
      "execution_count": null,
      "outputs": [
        {
          "output_type": "execute_result",
          "data": {
            "text/plain": [
              "0.956634706227206"
            ]
          },
          "metadata": {},
          "execution_count": 35
        }
      ]
    },
    {
      "cell_type": "code",
      "source": [
        "plt.plot(np.cumsum(svd.explained_variance_ratio_))\n",
        "plt.title(f'Explained variance {encoding}')\n",
        "plt.hlines(y=0.95, xmin=-1, xmax=2000, colors='red')\n",
        "plt.xlabel('Number of components')\n",
        "plt.ylabel('Cumulative explained variance')\n",
        "plt.savefig(path+f'images/explained_variance_{encoding}.png')"
      ],
      "metadata": {
        "colab": {
          "base_uri": "https://localhost:8080/",
          "height": 295
        },
        "id": "Q6QfLfZ4JMqR",
        "outputId": "51710a10-bf8b-4006-c27f-a1db10a906cc"
      },
      "execution_count": null,
      "outputs": [
        {
          "output_type": "display_data",
          "data": {
            "image/png": "[encoded data removed]",
            "text/plain": [
              "<Figure size 432x288 with 1 Axes>"
            ]
          },
          "metadata": {
            "needs_background": "light"
          }
        }
      ]
    },
    {
      "cell_type": "code",
      "metadata": {
        "id": "q-T2TR6ipf28"
      },
      "source": [
        "# Store the fitted SVD so it can be applied to new data\n",
        "pickle.dump(svd, open(path+f'svd/svd_{encoding}.pickle', 'wb'))"
      ],
      "execution_count": null,
      "outputs": []
    },
    {
      "cell_type": "code",
      "source": [
        "# Load SVD object\n",
        "svd = pickle.load(open(path+f'svd/svd_{encoding}.pickle', 'rb'))\n",
        "X_train_svd, X_val_svd, X_test_svd, X_c_svd = svd.transform(X_train), svd.transform(X_val), svd.transform(X_test), svd.transform(X_c)\n",
        "sum(svd.explained_variance_ratio_)"
      ],
      "metadata": {
        "id": "tZrG-_F_ODZG",
        "colab": {
          "base_uri": "https://localhost:8080/"
        },
        "outputId": "0448d9bf-a2a3-4b64-b8a0-60d4b968ab62"
      },
      "execution_count": null,
      "outputs": [
        {
          "output_type": "execute_result",
          "data": {
            "text/plain": [
              "0.9582916160987319"
            ]
          },
          "metadata": {},
          "execution_count": 20
        }
      ]
    },
    {
      "cell_type": "markdown",
      "metadata": {
        "id": "7NOkrCYAg62p"
      },
      "source": [
        "# Step 5: Hyperparameters tuning and model training"
      ]
    },
    {
      "cell_type": "code",
      "metadata": {
        "id": "vsdMr5y7Y8iL",
        "colab": {
          "base_uri": "https://localhost:8080/"
        },
        "outputId": "f226ff01-6103-4cb3-993e-e7edd60bf974"
      },
      "source": [
        "# Metrics to be used for training\n",
        "METRICS = [BinaryAccuracy(name='accuracy'), AUC(name='auc'), Precision(name='precision'), f1(num_classes=1, name='f1'), Recall(name='recall')]\n",
        "\n",
        "def build_model(hp):\n",
        "  \"\"\"\n",
        "  Keras model is returned from keras tuner\n",
        "  \"\"\"\n",
        "  model = Sequential()\n",
        "  model.add(Dense(units = hp.Choice('units', [30,50,100,150,200,250,300]),\n",
        "                  activation = 'sigmoid',\n",
        "                  kernel_initializer = 'he_uniform'))\n",
        "  model.add(Dropout(hp.Choice('rate', [0.2,0.3,0.4,0.5])))\n",
        "  model.add(Dense(units = 2,\n",
        "                  activation = hp.Choice('activation', ['relu', 'sigmoid','tanh']),\n",
        "                  kernel_initializer = 'he_uniform'))\n",
        "  model.add(BatchNormalization())\n",
        "  model.add(Dense(1, activation = 'sigmoid', kernel_initializer = 'he_uniform'))\n",
        "  model.compile(loss = 'binary_crossentropy', optimizer = hp.Choice('optimizer', ['SGD', 'adam']), metrics=METRICS)\n",
        "  return model\n",
        "\n",
        "# Stopping condition\n",
        "stop_early = EarlyStopping(monitor=\"auc\", patience=3, min_delta=0.01)\n",
        "\n",
        "# Search of hyperparameters\n",
        "tuner = kt.BayesianOptimization(build_model, objective = kt.Objective(\"val_auc\", direction=\"max\"), max_trials=10, overwrite=True)\n",
        "tuner.search(X_train_svd, y_train, epochs=40, validation_data=(X_val_svd, y_val), callbacks=[stop_early], batch_size=32, shuffle=True, verbose=1)\n",
        "\n",
        "# Get the best hyperparameters\n",
        "best_hps = tuner.get_best_hyperparameters()[0]\n",
        "\n",
        "# Retrain the model\n",
        "model = tuner.hypermodel.build(best_hps)\n",
        "history = model.fit(X_train_svd, y_train, validation_data=(X_val_svd, y_val), epochs=40, shuffle = True, verbose=1, batch_size=32, callbacks=[stop_early])"
      ],
      "execution_count": null,
      "outputs": [
        {
          "output_type": "stream",
          "name": "stdout",
          "text": [
            "Trial 5 Complete [00h 00m 11s]\n",
            "val_auc: 0.9021775126457214\n",
            "\n",
            "Best val_auc So Far: 0.9363276362419128\n",
            "Total elapsed time: 00h 01m 13s\n",
            "INFO:tensorflow:Oracle triggered exit\n",
            "Epoch 1/40\n",
            "284/284 [==============================] - 3s 7ms/step - loss: 0.5875 - accuracy: 0.7421 - auc: 0.7137 - precision: 0.7411 - f1: 0.8289 - recall: 0.9771 - val_loss: 0.4882 - val_accuracy: 0.7070 - val_auc: 0.8253 - val_precision: 0.7070 - val_f1: 0.8284 - val_recall: 1.0000\n",
            "Epoch 2/40\n",
            "284/284 [==============================] - 1s 4ms/step - loss: 0.4494 - accuracy: 0.7080 - auc: 0.8335 - precision: 0.7080 - f1: 0.8290 - recall: 1.0000 - val_loss: 0.4130 - val_accuracy: 0.7070 - val_auc: 0.8806 - val_precision: 0.7070 - val_f1: 0.8284 - val_recall: 1.0000\n",
            "Epoch 3/40\n",
            "284/284 [==============================] - 1s 4ms/step - loss: 0.3884 - accuracy: 0.7832 - auc: 0.8797 - precision: 0.8202 - f1: 0.8290 - recall: 0.8885 - val_loss: 0.3767 - val_accuracy: 0.8330 - val_auc: 0.8988 - val_precision: 0.8723 - val_f1: 0.8284 - val_recall: 0.8948\n",
            "Epoch 4/40\n",
            "284/284 [==============================] - 1s 4ms/step - loss: 0.3596 - accuracy: 0.8312 - auc: 0.8955 - precision: 0.9032 - f1: 0.8290 - recall: 0.8530 - val_loss: 0.3588 - val_accuracy: 0.8386 - val_auc: 0.9022 - val_precision: 0.8802 - val_f1: 0.8284 - val_recall: 0.8934\n",
            "Epoch 5/40\n",
            "284/284 [==============================] - 1s 4ms/step - loss: 0.3347 - accuracy: 0.8515 - auc: 0.9057 - precision: 0.9264 - f1: 0.8290 - recall: 0.8585 - val_loss: 0.3474 - val_accuracy: 0.8429 - val_auc: 0.9040 - val_precision: 0.8973 - val_f1: 0.8284 - val_recall: 0.8784\n",
            "Epoch 6/40\n",
            "284/284 [==============================] - 1s 4ms/step - loss: 0.3240 - accuracy: 0.8556 - auc: 0.9048 - precision: 0.9396 - f1: 0.8290 - recall: 0.8507 - val_loss: 0.3422 - val_accuracy: 0.8489 - val_auc: 0.9054 - val_precision: 0.9062 - val_f1: 0.8284 - val_recall: 0.8770\n",
            "Epoch 7/40\n",
            "284/284 [==============================] - 1s 4ms/step - loss: 0.3114 - accuracy: 0.8642 - auc: 0.9113 - precision: 0.9487 - f1: 0.8290 - recall: 0.8544 - val_loss: 0.3432 - val_accuracy: 0.8542 - val_auc: 0.9058 - val_precision: 0.9070 - val_f1: 0.8284 - val_recall: 0.8845\n",
            "Epoch 8/40\n",
            "284/284 [==============================] - 1s 4ms/step - loss: 0.3057 - accuracy: 0.8642 - auc: 0.9086 - precision: 0.9556 - f1: 0.8290 - recall: 0.8476 - val_loss: 0.3408 - val_accuracy: 0.8502 - val_auc: 0.9054 - val_precision: 0.9112 - val_f1: 0.8284 - val_recall: 0.8732\n"
          ]
        }
      ]
    },
    {
      "cell_type": "code",
      "source": [
        "best_hps.values"
      ],
      "metadata": {
        "colab": {
          "base_uri": "https://localhost:8080/"
        },
        "id": "dh-Xn4NUe9or",
        "outputId": "82c661c3-47c9-4c61-cc03-20c08858505a"
      },
      "execution_count": null,
      "outputs": [
        {
          "output_type": "execute_result",
          "data": {
            "text/plain": [
              "{'activation': 'sigmoid', 'optimizer': 'adam', 'rate': 0.2, 'units': 30}"
            ]
          },
          "metadata": {},
          "execution_count": 7
        }
      ]
    },
    {
      "cell_type": "markdown",
      "metadata": {
        "id": "OJTNgptV7Rhn"
      },
      "source": [
        "# Step 6: Model evaluation"
      ]
    },
    {
      "cell_type": "code",
      "metadata": {
        "id": "AuLU-VxhhK_G"
      },
      "source": [
        "def model_evaluation(path, encoding, history, model, X_train, X_val, X_test, X_c, y_train, y_val, y_test, y_c):\n",
        "  # Obtain all metrics\n",
        "  train_metrics = model.evaluate(X_train, y_train, verbose=0)\n",
        "  val_metrics = model.evaluate(X_val, y_val, verbose=0)\n",
        "  test_metrics = model.evaluate(X_test, y_test, verbose=0)\n",
        "  curated_metrics = model.evaluate(X_c, y_c, verbose=0)\n",
        "  df_metrics = pd.DataFrame(data=[train_metrics[1:],val_metrics[1:],test_metrics[1:],curated_metrics[1:]],\n",
        "                            columns=['Accuracy','AUC','Precision', 'F1', 'Recall'],index=['Train','Validation','Test','Curated'])\n",
        "  df_metrics.to_csv(path+f'metrics/{encoding}.csv')\n",
        "  print(df_metrics)\n",
        "\n",
        "  # Plot loss during training\n",
        "  plt.subplot(211)\n",
        "  plt.title('Loss')\n",
        "  plt.plot(history['loss'], label='train')\n",
        "  plt.plot(history['val_loss'], label='validation')\n",
        "  plt.legend()\n",
        "\n",
        "  # Plot accuracy during training\n",
        "  plt.subplot(212)\n",
        "  plt.title('Accuracy')\n",
        "  plt.plot(history['accuracy'], label='train')\n",
        "  plt.plot(history['val_accuracy'], label='validation')\n",
        "  plt.legend()\n",
        "  plt.tight_layout()\n",
        "  plt.savefig(path+f'images/train_validation_curves_{encoding}.png')\n",
        "  plt.show()\n",
        "\n",
        "  # Plot CM\n",
        "  yhat = model.predict(X_test)>0.5\n",
        "  yhat.astype('int32')\n",
        "  disp = ConfusionMatrixDisplay(confusion_matrix(y_test, yhat), display_labels=[\"GR\",\"OR\"])\n",
        "  disp = disp.plot(cmap=\"Blues\", values_format='')\n",
        "  plt.savefig(path+f'images/confusion_matrix_{encoding}.png')\n",
        "  plt.show()\n",
        "\n",
        "  # ROC curve\n",
        "  y_score = model.predict(X_test_svd)\n",
        "  fpr, tpr, _ = roc_curve(y_test, y_score, pos_label=1)\n",
        "  roc_auc = auc(fpr, tpr)\n",
        "  display = RocCurveDisplay(fpr=fpr, tpr=tpr, roc_auc=roc_auc,estimator_name=encoding).plot()\n",
        "  plt.savefig(path+f'images/roc_curve_{encoding}.png')\n",
        "\n",
        "  # Model architecture\n",
        "  plot_model(model, to_file=path+f'images/model_plot_{encoding}.png', show_shapes=True, show_layer_names=True)\n",
        "  \n",
        "  # Save our model\n",
        "  model.save(path+f'models/{encoding}.h5')"
      ],
      "execution_count": null,
      "outputs": []
    },
    {
      "cell_type": "code",
      "metadata": {
        "id": "uJCU0G7Bqc3S",
        "colab": {
          "base_uri": "https://localhost:8080/",
          "height": 908
        },
        "outputId": "693835e4-a543-425d-b22e-90249cbeeeb7"
      },
      "source": [
        "model_evaluation(path, encoding, history.history, model, X_train_svd, X_val_svd, X_test_svd, X_c_svd, y_train, y_val, y_test, y_c)"
      ],
      "execution_count": null,
      "outputs": [
        {
          "output_type": "stream",
          "name": "stdout",
          "text": [
            "            Accuracy       AUC  Precision            F1    Recall\n",
            "Train       0.990631  0.999499   0.989951  [0.82904166]  0.996886\n",
            "Validation  0.903439  0.957308   0.918404   [0.8283611]  0.947615\n",
            "Test        0.907769  0.964159   0.920378   [0.8304659]  0.952514\n",
            "Curated     0.970297  1.000000   0.945455   [0.6797386]  1.000000\n"
          ]
        },
        {
          "output_type": "display_data",
          "data": {
            "image/png": "[encoded data removed]",
            "text/plain": [
              "<Figure size 432x288 with 2 Axes>"
            ]
          },
          "metadata": {
            "needs_background": "light"
          }
        },
        {
          "output_type": "display_data",
          "data": {
            "image/png": "[encoded data removed]",
            "text/plain": [
              "<Figure size 432x288 with 2 Axes>"
            ]
          },
          "metadata": {
            "needs_background": "light"
          }
        },
        {
          "output_type": "display_data",
          "data": {
            "image/png": "[encoded data removed]",
            "text/plain": [
              "<Figure size 432x288 with 1 Axes>"
            ]
          },
          "metadata": {
            "needs_background": "light"
          }
        }
      ]
    },
    {
      "cell_type": "markdown",
      "metadata": {
        "id": "M4VmqCwcLV67"
      },
      "source": [
        " ## Embedded sequences"
      ]
    },
    {
      "cell_type": "code",
      "metadata": {
        "id": "aGNkRjrptKkT"
      },
      "source": [
        "def get_2D(encoding, model, svd, X, y, save):\n",
        "  # Reuse layers from model\n",
        "  encoder = Sequential()\n",
        "  encoder.add(model.layers[0])\n",
        "  encoder.add(model.layers[1])\n",
        "  encoder.add(model.layers[2])\n",
        "  encoder.compile(loss='binary_crossentropy', optimizer='adam')\n",
        "\n",
        "  # Encoded version of sequences\n",
        "  X_svd = svd.transform(X)\n",
        "  X_embedded = encoder.predict(X_svd)\n",
        "\n",
        "  # Two dimensional representation of sequences\n",
        "  colors = y.copy().astype('object')\n",
        "  colors[colors==0] = 'red'\n",
        "  colors[colors==1] = 'blue'\n",
        "  scatter = plt.scatter(X_embedded[:,0], X_embedded[:,1], c=colors)\n",
        "  plt.title(f'Scatter plot of sequences for {encoding}')\n",
        "  pop_a = mpatches.Patch(color='red', label='GR seqs')\n",
        "  pop_b = mpatches.Patch(color='blue', label='OR seqs')\n",
        "  plt.legend(handles=[pop_a,pop_b])\n",
        "  if save==True:\n",
        "    plt.savefig(path+f'images/2D_{encoding}.png')\n",
        "  plt.show()"
      ],
      "execution_count": null,
      "outputs": []
    },
    {
      "cell_type": "code",
      "source": [
        "get_2D(encoding, model, svd, X, y, True)"
      ],
      "metadata": {
        "colab": {
          "base_uri": "https://localhost:8080/",
          "height": 281
        },
        "id": "UYXCkysE2TfF",
        "outputId": "83c9cbfe-a4c3-4ad3-db63-1611428be552"
      },
      "execution_count": null,
      "outputs": [
        {
          "output_type": "display_data",
          "data": {
            "image/png": "[encoded data removed]",
            "text/plain": [
              "<Figure size 432x288 with 1 Axes>"
            ]
          },
          "metadata": {
            "needs_background": "light"
          }
        }
      ]
    },
    {
      "cell_type": "markdown",
      "source": [
        "## Bootstrap Confidence intervals"
      ],
      "metadata": {
        "id": "s0JHW0J2OV7O"
      }
    },
    {
      "cell_type": "code",
      "source": [
        "#https://machinelearningmastery.com/confidence-intervals-for-machine-learning/\n",
        "def bootstrap_samples(model, X, y):\n",
        "  res = []\n",
        "  # Seed the random number generator\n",
        "  seed(123)\n",
        "  # Bootstrap\n",
        "  scores = {k:[] for k in ['Accuracy','Precision','Recall','AUC','F1']}\n",
        "  for _ in tqdm(range(1000)):\n",
        "    # Bootstrap sample\n",
        "    indices = randint(0, len(X_test_svd)-1, len(y))\n",
        "    X_sample, y_sample = X_test_svd[indices], y_test[indices]\n",
        "    # Predict test values\n",
        "    yhat = model.predict(X_sample)>0.5\n",
        "    scores['Accuracy'].append(accuracy_score(y_sample,yhat))\n",
        "    scores['Precision'].append(precision_score(y_sample,yhat))\n",
        "    scores['Recall'].append(recall_score(y_sample,yhat))\n",
        "    scores['AUC'].append(roc_auc_score(y_sample,yhat))\n",
        "    scores['F1'].append(f1_score(y_sample,yhat))\n",
        "  # Calculate 95% confidence intervals (100 - alpha)\n",
        "  alpha = 5.0\n",
        "  # Calculate lower percentile (e.g. 2.5)\n",
        "  lower_p = alpha / 2.0\n",
        "  # Calculate upper percentile (e.g. 97.5)\n",
        "  upper_p = (100 - alpha) + (alpha / 2.0)\n",
        "  # For each metric\n",
        "  for k,v in scores.items():\n",
        "    # Retrieve observation at lower percentile\n",
        "    lower = max(0.0, percentile(v, lower_p))\n",
        "    # Retrieve observation at upper percentile\n",
        "    upper = min(1.0, percentile(v, upper_p))\n",
        "    res.append([upper,median(v),lower])\n",
        "  res = np.array(res)\n",
        "  res = np.rot90(res)\n",
        "  df_metrics = pd.DataFrame(data=res, columns=scores.keys(), index=['2.5th percentile', '50th percentile', '97.5th percentile'])\n",
        "  df_metrics.to_csv(path+f'metrics/bootstrap_{encoding}.csv')\n",
        "  print(df_metrics)\n",
        "  return scores"
      ],
      "metadata": {
        "id": "BCk6zE61O85K"
      },
      "execution_count": null,
      "outputs": []
    },
    {
      "cell_type": "code",
      "source": [
        "model = keras.models.load_model(path+f'models/{encoding}.h5')\n",
        "metrics = bootstrap_samples(model, X_test_svd, y_test)"
      ],
      "metadata": {
        "colab": {
          "base_uri": "https://localhost:8080/"
        },
        "id": "8Q_0TKRGEU_i",
        "outputId": "775a26e4-c8b9-4b55-dec0-787ffe3cc934"
      },
      "execution_count": null,
      "outputs": [
        {
          "output_type": "stream",
          "name": "stderr",
          "text": [
            "100%|██████████| 1000/1000 [06:14<00:00,  2.67it/s]"
          ]
        },
        {
          "output_type": "stream",
          "name": "stdout",
          "text": [
            "                   Accuracy  Precision    Recall       AUC        F1\n",
            "2.5th percentile   0.902479   0.906177  0.957334  0.860920  0.932899\n",
            "50th percentile    0.912727   0.916960  0.964736  0.875247  0.940088\n",
            "97.5th percentile  0.921983   0.927390  0.972196  0.888806  0.946816\n"
          ]
        },
        {
          "output_type": "stream",
          "name": "stderr",
          "text": [
            "\n"
          ]
        }
      ]
    },
    {
      "cell_type": "code",
      "source": [
        "plt.hist(metrics['Precision'], 50)\n",
        "plt.xlabel('Precision')\n",
        "plt.ylabel('Count')\n",
        "plt.title(f'Histogram of Precision for {encoding}')\n",
        "plt.savefig(path+f'images/bootstrap_{encoding}.png')\n",
        "plt.show()"
      ],
      "metadata": {
        "colab": {
          "base_uri": "https://localhost:8080/",
          "height": 295
        },
        "id": "QmHan0aZYCrh",
        "outputId": "7b774f0e-713c-4e64-b8ff-0ec33d03dc3b"
      },
      "execution_count": null,
      "outputs": [
        {
          "output_type": "display_data",
          "data": {
            "image/png": "[encoded data removed]",
            "text/plain": [
              "<Figure size 432x288 with 1 Axes>"
            ]
          },
          "metadata": {
            "needs_background": "light"
          }
        }
      ]
    },
    {
      "cell_type": "markdown",
      "source": [
        "# Step 7: Final model evaluation"
      ],
      "metadata": {
        "id": "DaJwXsS7gkpJ"
      }
    },
    {
      "cell_type": "code",
      "source": [
        "# Load dictionaries of encondings\n",
        "with open(path+'encodings.json') as json_file:\n",
        "  d_codes = json.load(json_file)"
      ],
      "metadata": {
        "id": "zStH3Vf8hIp5"
      },
      "execution_count": null,
      "outputs": []
    },
    {
      "cell_type": "code",
      "source": [
        "def get_yhats_final(d_codes):\n",
        "  ls_encodings = ['1-hot','phy-chem','10-factor']\n",
        "  aux = list()\n",
        "  for encoding in tqdm(ls_encodings):\n",
        "    _,_,_,_,X_test,_,_,_,y_test,_ = get_datasets(path+f'df_encoded_{encoding}.csv')\n",
        "    # Apply SVD\n",
        "    svd = pickle.load(open(path+f'svd/svd_{encoding}.pickle', 'rb'))\n",
        "    X_svd = svd.transform(X_test)\n",
        "    # Load model\n",
        "    model = keras.models.load_model(path+f'models/{encoding}.h5')\n",
        "    # Make predictions\n",
        "    yhat = model.predict(X_svd)\n",
        "    aux.append(yhat)\n",
        "  return aux, y_test\n",
        "\n",
        "def get_scores(y_test, yhats):\n",
        "  aux, ts = list(), list()\n",
        "  for threshold in range(50,100,5):\n",
        "    t = threshold/100\n",
        "    res = np.column_stack(yhats)\n",
        "    res = res >= t\n",
        "    res = res.sum(1)\n",
        "    yhat = np.where(res==3,1,0)\n",
        "    ts.append(t)\n",
        "    aux.append([accuracy_score(y_test,yhat),precision_score(y_test,yhat),recall_score(y_test,yhat),roc_auc_score(y_test,yhat),f1_score(y_test,yhat)])\n",
        "  res = pd.DataFrame(aux, columns = ['Accuracy', 'Precision', 'Recall', 'AUC', 'F1'])\n",
        "  res['Threshold'] = ts\n",
        "  return res"
      ],
      "metadata": {
        "id": "Xl4Jl-Fqgohd"
      },
      "execution_count": null,
      "outputs": []
    },
    {
      "cell_type": "code",
      "source": [
        "yhats, y_test= get_yhats_final(d_codes)"
      ],
      "metadata": {
        "colab": {
          "base_uri": "https://localhost:8080/"
        },
        "id": "JYQBqTFRhmZw",
        "outputId": "a6e8d9b7-483d-417f-d6d7-2b4cd6626bd1"
      },
      "execution_count": null,
      "outputs": [
        {
          "output_type": "stream",
          "name": "stderr",
          "text": [
            "100%|██████████| 3/3 [02:25<00:00, 48.63s/it]\n"
          ]
        }
      ]
    },
    {
      "cell_type": "code",
      "source": [
        "df_scores = get_scores(y_test, yhats)"
      ],
      "metadata": {
        "id": "yHj-usOMmIe3"
      },
      "execution_count": null,
      "outputs": []
    },
    {
      "cell_type": "code",
      "source": [
        "df_scores"
      ],
      "metadata": {
        "colab": {
          "base_uri": "https://localhost:8080/",
          "height": 363
        },
        "id": "L6LUPaZKukkY",
        "outputId": "00da6967-bb17-4db7-9295-78d136c8c389"
      },
      "execution_count": null,
      "outputs": [
        {
          "output_type": "execute_result",
          "data": {
            "text/html": [
              "\n",
              "  <div id=\"df-e3536c3d-b6e2-4066-bbca-2016d22d836e\">\n",
              "    <div class=\"colab-df-container\">\n",
              "      <div>\n",
              "<style scoped>\n",
              "    .dataframe tbody tr th:only-of-type {\n",
              "        vertical-align: middle;\n",
              "    }\n",
              "\n",
              "    .dataframe tbody tr th {\n",
              "        vertical-align: top;\n",
              "    }\n",
              "\n",
              "    .dataframe thead th {\n",
              "        text-align: right;\n",
              "    }\n",
              "</style>\n",
              "<table border=\"1\" class=\"dataframe\">\n",
              "  <thead>\n",
              "    <tr style=\"text-align: right;\">\n",
              "      <th></th>\n",
              "      <th>Accuracy</th>\n",
              "      <th>Precision</th>\n",
              "      <th>Recall</th>\n",
              "      <th>AUC</th>\n",
              "      <th>F1</th>\n",
              "      <th>Threshold</th>\n",
              "    </tr>\n",
              "  </thead>\n",
              "  <tbody>\n",
              "    <tr>\n",
              "      <th>0</th>\n",
              "      <td>0.900496</td>\n",
              "      <td>0.971414</td>\n",
              "      <td>0.885940</td>\n",
              "      <td>0.911043</td>\n",
              "      <td>0.926710</td>\n",
              "      <td>0.50</td>\n",
              "    </tr>\n",
              "    <tr>\n",
              "      <th>1</th>\n",
              "      <td>0.893884</td>\n",
              "      <td>0.974545</td>\n",
              "      <td>0.873371</td>\n",
              "      <td>0.908749</td>\n",
              "      <td>0.921188</td>\n",
              "      <td>0.55</td>\n",
              "    </tr>\n",
              "    <tr>\n",
              "      <th>2</th>\n",
              "      <td>0.887273</td>\n",
              "      <td>0.975777</td>\n",
              "      <td>0.862663</td>\n",
              "      <td>0.905106</td>\n",
              "      <td>0.915740</td>\n",
              "      <td>0.60</td>\n",
              "    </tr>\n",
              "    <tr>\n",
              "      <th>3</th>\n",
              "      <td>0.880000</td>\n",
              "      <td>0.980097</td>\n",
              "      <td>0.848231</td>\n",
              "      <td>0.903021</td>\n",
              "      <td>0.909409</td>\n",
              "      <td>0.65</td>\n",
              "    </tr>\n",
              "    <tr>\n",
              "      <th>4</th>\n",
              "      <td>0.873388</td>\n",
              "      <td>0.984624</td>\n",
              "      <td>0.834730</td>\n",
              "      <td>0.901401</td>\n",
              "      <td>0.903502</td>\n",
              "      <td>0.70</td>\n",
              "    </tr>\n",
              "    <tr>\n",
              "      <th>5</th>\n",
              "      <td>0.866116</td>\n",
              "      <td>0.989332</td>\n",
              "      <td>0.820298</td>\n",
              "      <td>0.899317</td>\n",
              "      <td>0.896920</td>\n",
              "      <td>0.75</td>\n",
              "    </tr>\n",
              "    <tr>\n",
              "      <th>6</th>\n",
              "      <td>0.853884</td>\n",
              "      <td>0.993064</td>\n",
              "      <td>0.799814</td>\n",
              "      <td>0.893065</td>\n",
              "      <td>0.886024</td>\n",
              "      <td>0.80</td>\n",
              "    </tr>\n",
              "    <tr>\n",
              "      <th>7</th>\n",
              "      <td>0.834050</td>\n",
              "      <td>0.993405</td>\n",
              "      <td>0.771415</td>\n",
              "      <td>0.879436</td>\n",
              "      <td>0.868449</td>\n",
              "      <td>0.85</td>\n",
              "    </tr>\n",
              "    <tr>\n",
              "      <th>8</th>\n",
              "      <td>0.803306</td>\n",
              "      <td>0.996166</td>\n",
              "      <td>0.725791</td>\n",
              "      <td>0.859475</td>\n",
              "      <td>0.839752</td>\n",
              "      <td>0.90</td>\n",
              "    </tr>\n",
              "    <tr>\n",
              "      <th>9</th>\n",
              "      <td>0.731240</td>\n",
              "      <td>0.998506</td>\n",
              "      <td>0.622439</td>\n",
              "      <td>0.810079</td>\n",
              "      <td>0.766848</td>\n",
              "      <td>0.95</td>\n",
              "    </tr>\n",
              "  </tbody>\n",
              "</table>\n",
              "</div>\n",
              "      <button class=\"colab-df-convert\" onclick=\"convertToInteractive('df-e3536c3d-b6e2-4066-bbca-2016d22d836e')\"\n",
              "              title=\"Convert this dataframe to an interactive table.\"\n",
              "              style=\"display:none;\">\n",
              "        \n",
              "  <svg xmlns=\"http://www.w3.org/2000/svg\" height=\"24px\"viewBox=\"0 0 24 24\"\n",
              "       width=\"24px\">\n",
              "    <path d=\"M0 0h24v24H0V0z\" fill=\"none\"/>\n",
              "    <path d=\"M18.56 5.44l.94 2.06.94-2.06 2.06-.94-2.06-.94-.94-2.06-.94 2.06-2.06.94zm-11 1L8.5 8.5l.94-2.06 2.06-.94-2.06-.94L8.5 2.5l-.94 2.06-2.06.94zm10 10l.94 2.06.94-2.06 2.06-.94-2.06-.94-.94-2.06-.94 2.06-2.06.94z\"/><path d=\"M17.41 7.96l-1.37-1.37c-.4-.4-.92-.59-1.43-.59-.52 0-1.04.2-1.43.59L10.3 9.45l-7.72 7.72c-.78.78-.78 2.05 0 2.83L4 21.41c.39.39.9.59 1.41.59.51 0 1.02-.2 1.41-.59l7.78-7.78 2.81-2.81c.8-.78.8-2.07 0-2.86zM5.41 20L4 18.59l7.72-7.72 1.47 1.35L5.41 20z\"/>\n",
              "  </svg>\n",
              "      </button>\n",
              "      \n",
              "  <style>\n",
              "    .colab-df-container {\n",
              "      display:flex;\n",
              "      flex-wrap:wrap;\n",
              "      gap: 12px;\n",
              "    }\n",
              "\n",
              "    .colab-df-convert {\n",
              "      background-color: #E8F0FE;\n",
              "      border: none;\n",
              "      border-radius: 50%;\n",
              "      cursor: pointer;\n",
              "      display: none;\n",
              "      fill: #1967D2;\n",
              "      height: 32px;\n",
              "      padding: 0 0 0 0;\n",
              "      width: 32px;\n",
              "    }\n",
              "\n",
              "    .colab-df-convert:hover {\n",
              "      background-color: #E2EBFA;\n",
              "      box-shadow: 0px 1px 2px rgba(60, 64, 67, 0.3), 0px 1px 3px 1px rgba(60, 64, 67, 0.15);\n",
              "      fill: #174EA6;\n",
              "    }\n",
              "\n",
              "    [theme=dark] .colab-df-convert {\n",
              "      background-color: #3B4455;\n",
              "      fill: #D2E3FC;\n",
              "    }\n",
              "\n",
              "    [theme=dark] .colab-df-convert:hover {\n",
              "      background-color: #434B5C;\n",
              "      box-shadow: 0px 1px 3px 1px rgba(0, 0, 0, 0.15);\n",
              "      filter: drop-shadow(0px 1px 2px rgba(0, 0, 0, 0.3));\n",
              "      fill: #FFFFFF;\n",
              "    }\n",
              "  </style>\n",
              "\n",
              "      <script>\n",
              "        const buttonEl =\n",
              "          document.querySelector('#df-e3536c3d-b6e2-4066-bbca-2016d22d836e button.colab-df-convert');\n",
              "        buttonEl.style.display =\n",
              "          google.colab.kernel.accessAllowed ? 'block' : 'none';\n",
              "\n",
              "        async function convertToInteractive(key) {\n",
              "          const element = document.querySelector('#df-e3536c3d-b6e2-4066-bbca-2016d22d836e');\n",
              "          const dataTable =\n",
              "            await google.colab.kernel.invokeFunction('convertToInteractive',\n",
              "                                                     [key], {});\n",
              "          if (!dataTable) return;\n",
              "\n",
              "          const docLinkHtml = 'Like what you see? Visit the ' +\n",
              "            '<a target=\"_blank\" href=https://colab.research.google.com/notebooks/data_table.ipynb>data table notebook</a>'\n",
              "            + ' to learn more about interactive tables.';\n",
              "          element.innerHTML = '';\n",
              "          dataTable['output_type'] = 'display_data';\n",
              "          await google.colab.output.renderOutput(dataTable, element);\n",
              "          const docLink = document.createElement('div');\n",
              "          docLink.innerHTML = docLinkHtml;\n",
              "          element.appendChild(docLink);\n",
              "        }\n",
              "      </script>\n",
              "    </div>\n",
              "  </div>\n",
              "  "
            ],
            "text/plain": [
              "   Accuracy  Precision    Recall       AUC        F1  Threshold\n",
              "0  0.900496   0.971414  0.885940  0.911043  0.926710       0.50\n",
              "1  0.893884   0.974545  0.873371  0.908749  0.921188       0.55\n",
              "2  0.887273   0.975777  0.862663  0.905106  0.915740       0.60\n",
              "3  0.880000   0.980097  0.848231  0.903021  0.909409       0.65\n",
              "4  0.873388   0.984624  0.834730  0.901401  0.903502       0.70\n",
              "5  0.866116   0.989332  0.820298  0.899317  0.896920       0.75\n",
              "6  0.853884   0.993064  0.799814  0.893065  0.886024       0.80\n",
              "7  0.834050   0.993405  0.771415  0.879436  0.868449       0.85\n",
              "8  0.803306   0.996166  0.725791  0.859475  0.839752       0.90\n",
              "9  0.731240   0.998506  0.622439  0.810079  0.766848       0.95"
            ]
          },
          "metadata": {},
          "execution_count": 29
        }
      ]
    },
    {
      "cell_type": "code",
      "source": [
        "df_scores.to_csv(path+'metrics/metrics_final_threshold.csv')"
      ],
      "metadata": {
        "id": "Ns2dzJfPL576"
      },
      "execution_count": null,
      "outputs": []
    },
    {
      "cell_type": "code",
      "source": [
        "# Plot a simple line chart\n",
        "plt.plot(df_scores['Threshold'], df_scores['Accuracy'], color='r', label='Accuracy')\n",
        "plt.plot(df_scores['Threshold'], df_scores['Precision'], color='y', label='Precision')\n",
        "plt.plot(df_scores['Threshold'], df_scores['Recall'], color='g', label='Recall')\n",
        "plt.plot(df_scores['Threshold'], df_scores['AUC'], color='b', label='AUC')\n",
        "plt.plot(df_scores['Threshold'], df_scores['F1'], color='m', label='F1')\n",
        "#plt.title('Metrics values for different thresholds')\n",
        "plt.xlabel('Probability threshold')\n",
        "plt.ylabel('Metric value')\n",
        "plt.legend()\n",
        "plt.show()"
      ],
      "metadata": {
        "colab": {
          "base_uri": "https://localhost:8080/",
          "height": 279
        },
        "id": "iyUZGkf5vY-3",
        "outputId": "76be02e4-6fbb-4703-cc4b-c72c870b103a"
      },
      "execution_count": null,
      "outputs": [
        {
          "output_type": "display_data",
          "data": {
            "image/png": "[encoded data removed]",
            "text/plain": [
              "<Figure size 432x288 with 1 Axes>"
            ]
          },
          "metadata": {
            "needs_background": "light"
          }
        }
      ]
    },
    {
      "cell_type": "markdown",
      "source": [
        "# Step 8: Non-insect sequences"
      ],
      "metadata": {
        "id": "H6FuMqOodgkh"
      }
    },
    {
      "cell_type": "code",
      "source": [
        "def get_yhats(df_to_encode, d_codes):\n",
        "  ls_encodings = ['1-hot','phy-chem','10-factor']\n",
        "  aux = list()\n",
        "  for encoding in ls_encodings:\n",
        "    # Encode seqs\n",
        "    df_enc = get_df_encoded(df_to_encode[df_to_encode.Length<=600], 600, d_codes[encoding])\n",
        "    # Apply SVD\n",
        "    svd = pickle.load(open(path+f'svd/svd_{encoding}.pickle', 'rb'))\n",
        "    X = svd.transform(df_enc.loc[:,df_enc.columns!='Category'].values)\n",
        "    # Load model\n",
        "    model = keras.models.load_model(path+f'models/{encoding}.h5')\n",
        "    # Make predictions\n",
        "    yhat = model.predict(X)\n",
        "    aux.append(yhat)\n",
        "  df_res = pd.DataFrame(data = np.column_stack(aux), columns = ls_encodings)\n",
        "  df_res['ID'] = df_enc.index\n",
        "  df_res.set_index('ID', inplace=True)\n",
        "  return df_res"
      ],
      "metadata": {
        "id": "mTdngNVbsU9x"
      },
      "execution_count": null,
      "outputs": []
    },
    {
      "cell_type": "code",
      "source": [
        "# Load dictionaries of encondings\n",
        "with open(path+'encodings.json') as json_file:\n",
        "  d_codes = json.load(json_file)\n",
        "\n",
        "# Load sequeces to predict\n",
        "df = pd.read_csv(path+'CR_noninsect.csv',index_col=0)\n",
        "\n",
        "# Make predictions\n",
        "df_yhat = get_yhats(df[['ID','Seq','Category','Length']], d_codes)"
      ],
      "metadata": {
        "id": "Uk4FPSJNsF7y",
        "colab": {
          "base_uri": "https://localhost:8080/"
        },
        "outputId": "f9e10c4a-6c5e-4b1a-84bc-249c6d19331e"
      },
      "execution_count": null,
      "outputs": [
        {
          "output_type": "stream",
          "name": "stderr",
          "text": [
            "3964it [00:07, 529.76it/s]\n",
            "3964it [00:02, 1481.07it/s]\n",
            "3964it [00:03, 1114.18it/s]\n"
          ]
        }
      ]
    },
    {
      "cell_type": "code",
      "source": [
        "thresholds = [0.5, 0.55, 0.6, 0.65, 0.7, 0.75, 0.8, 0.85, 0.9, 0.95, 1]\n",
        "n = []\n",
        "for threshold in thresholds:\n",
        "  df_aux = df_yhat[(df_yhat['1-hot']>threshold)&(df_yhat['phy-chem']>threshold)&(df_yhat['10-factor']>threshold)]\n",
        "  n.append(len(df_aux))"
      ],
      "metadata": {
        "id": "AeRdtI-Z7Nf4"
      },
      "execution_count": null,
      "outputs": []
    },
    {
      "cell_type": "code",
      "source": [
        "plt.scatter(thresholds, n, color='g', label='Number of sequences predicted as OR')\n",
        "plt.xticks(thresholds)\n",
        "#plt.title('Number of predicted OR sequences for different thresholds')\n",
        "plt.xlabel('Probability threshold')\n",
        "plt.ylabel('Number of sequences')\n",
        "plt.legend()\n",
        "plt.show()"
      ],
      "metadata": {
        "colab": {
          "base_uri": "https://localhost:8080/",
          "height": 279
        },
        "id": "700acJ_N6e9d",
        "outputId": "c7fe3925-4a01-49e7-b09b-e56dc335fb26"
      },
      "execution_count": null,
      "outputs": [
        {
          "output_type": "display_data",
          "data": {
            "image/png": "[encoded data removed]",
            "text/plain": [
              "<Figure size 432x288 with 1 Axes>"
            ]
          },
          "metadata": {
            "needs_background": "light"
          }
        }
      ]
    },
    {
      "cell_type": "code",
      "source": [
        "df_yhat = pd.read_csv(path+'yhat_seqs_noinsect.csv')"
      ],
      "metadata": {
        "id": "j0bIdkOwqY3Y"
      },
      "execution_count": null,
      "outputs": []
    },
    {
      "cell_type": "code",
      "source": [
        "df_yhat"
      ],
      "metadata": {
        "colab": {
          "base_uri": "https://localhost:8080/",
          "height": 655
        },
        "id": "OV6Ftsio9SrI",
        "outputId": "ba025d49-491b-4202-8a72-a6b2be919f87"
      },
      "execution_count": null,
      "outputs": [
        {
          "output_type": "execute_result",
          "data": {
            "text/html": [
              "\n",
              "  <div id=\"df-696478af-1bf3-4840-8e36-2af7f263ed07\">\n",
              "    <div class=\"colab-df-container\">\n",
              "      <div>\n",
              "<style scoped>\n",
              "    .dataframe tbody tr th:only-of-type {\n",
              "        vertical-align: middle;\n",
              "    }\n",
              "\n",
              "    .dataframe tbody tr th {\n",
              "        vertical-align: top;\n",
              "    }\n",
              "\n",
              "    .dataframe thead th {\n",
              "        text-align: right;\n",
              "    }\n",
              "</style>\n",
              "<table border=\"1\" class=\"dataframe\">\n",
              "  <thead>\n",
              "    <tr style=\"text-align: right;\">\n",
              "      <th></th>\n",
              "      <th>ID</th>\n",
              "      <th>1-hot</th>\n",
              "      <th>phy-chem</th>\n",
              "      <th>10-factor</th>\n",
              "    </tr>\n",
              "  </thead>\n",
              "  <tbody>\n",
              "    <tr>\n",
              "      <th>0</th>\n",
              "      <td>AgenCR1</td>\n",
              "      <td>0.991435</td>\n",
              "      <td>0.221487</td>\n",
              "      <td>0.966328</td>\n",
              "    </tr>\n",
              "    <tr>\n",
              "      <th>1</th>\n",
              "      <td>AgenCR2</td>\n",
              "      <td>0.015419</td>\n",
              "      <td>0.645862</td>\n",
              "      <td>0.655607</td>\n",
              "    </tr>\n",
              "    <tr>\n",
              "      <th>2</th>\n",
              "      <td>AgenCR3</td>\n",
              "      <td>0.007090</td>\n",
              "      <td>0.444076</td>\n",
              "      <td>0.111274</td>\n",
              "    </tr>\n",
              "    <tr>\n",
              "      <th>3</th>\n",
              "      <td>AgenCR4</td>\n",
              "      <td>0.074436</td>\n",
              "      <td>0.881370</td>\n",
              "      <td>0.404372</td>\n",
              "    </tr>\n",
              "    <tr>\n",
              "      <th>4</th>\n",
              "      <td>AgenCR5</td>\n",
              "      <td>0.004131</td>\n",
              "      <td>0.860673</td>\n",
              "      <td>0.080759</td>\n",
              "    </tr>\n",
              "    <tr>\n",
              "      <th>...</th>\n",
              "      <td>...</td>\n",
              "      <td>...</td>\n",
              "      <td>...</td>\n",
              "      <td>...</td>\n",
              "    </tr>\n",
              "    <tr>\n",
              "      <th>3951</th>\n",
              "      <td>TurtCR261p</td>\n",
              "      <td>0.663449</td>\n",
              "      <td>0.611346</td>\n",
              "      <td>0.390335</td>\n",
              "    </tr>\n",
              "    <tr>\n",
              "      <th>3952</th>\n",
              "      <td>TurtCR262p</td>\n",
              "      <td>0.976281</td>\n",
              "      <td>0.999953</td>\n",
              "      <td>0.960403</td>\n",
              "    </tr>\n",
              "    <tr>\n",
              "      <th>3953</th>\n",
              "      <td>TurtCR263p</td>\n",
              "      <td>0.551649</td>\n",
              "      <td>0.019098</td>\n",
              "      <td>0.775349</td>\n",
              "    </tr>\n",
              "    <tr>\n",
              "      <th>3954</th>\n",
              "      <td>TurtCR264p</td>\n",
              "      <td>0.919085</td>\n",
              "      <td>0.940356</td>\n",
              "      <td>0.336348</td>\n",
              "    </tr>\n",
              "    <tr>\n",
              "      <th>3955</th>\n",
              "      <td>TurtCR265p</td>\n",
              "      <td>0.788260</td>\n",
              "      <td>0.999852</td>\n",
              "      <td>0.979261</td>\n",
              "    </tr>\n",
              "  </tbody>\n",
              "</table>\n",
              "<p>3956 rows × 4 columns</p>\n",
              "</div>\n",
              "      <button class=\"colab-df-convert\" onclick=\"convertToInteractive('df-696478af-1bf3-4840-8e36-2af7f263ed07')\"\n",
              "              title=\"Convert this dataframe to an interactive table.\"\n",
              "              style=\"display:none;\">\n",
              "        \n",
              "  <svg xmlns=\"http://www.w3.org/2000/svg\" height=\"24px\"viewBox=\"0 0 24 24\"\n",
              "       width=\"24px\">\n",
              "    <path d=\"M0 0h24v24H0V0z\" fill=\"none\"/>\n",
              "    <path d=\"M18.56 5.44l.94 2.06.94-2.06 2.06-.94-2.06-.94-.94-2.06-.94 2.06-2.06.94zm-11 1L8.5 8.5l.94-2.06 2.06-.94-2.06-.94L8.5 2.5l-.94 2.06-2.06.94zm10 10l.94 2.06.94-2.06 2.06-.94-2.06-.94-.94-2.06-.94 2.06-2.06.94z\"/><path d=\"M17.41 7.96l-1.37-1.37c-.4-.4-.92-.59-1.43-.59-.52 0-1.04.2-1.43.59L10.3 9.45l-7.72 7.72c-.78.78-.78 2.05 0 2.83L4 21.41c.39.39.9.59 1.41.59.51 0 1.02-.2 1.41-.59l7.78-7.78 2.81-2.81c.8-.78.8-2.07 0-2.86zM5.41 20L4 18.59l7.72-7.72 1.47 1.35L5.41 20z\"/>\n",
              "  </svg>\n",
              "      </button>\n",
              "      \n",
              "  <style>\n",
              "    .colab-df-container {\n",
              "      display:flex;\n",
              "      flex-wrap:wrap;\n",
              "      gap: 12px;\n",
              "    }\n",
              "\n",
              "    .colab-df-convert {\n",
              "      background-color: #E8F0FE;\n",
              "      border: none;\n",
              "      border-radius: 50%;\n",
              "      cursor: pointer;\n",
              "      display: none;\n",
              "      fill: #1967D2;\n",
              "      height: 32px;\n",
              "      padding: 0 0 0 0;\n",
              "      width: 32px;\n",
              "    }\n",
              "\n",
              "    .colab-df-convert:hover {\n",
              "      background-color: #E2EBFA;\n",
              "      box-shadow: 0px 1px 2px rgba(60, 64, 67, 0.3), 0px 1px 3px 1px rgba(60, 64, 67, 0.15);\n",
              "      fill: #174EA6;\n",
              "    }\n",
              "\n",
              "    [theme=dark] .colab-df-convert {\n",
              "      background-color: #3B4455;\n",
              "      fill: #D2E3FC;\n",
              "    }\n",
              "\n",
              "    [theme=dark] .colab-df-convert:hover {\n",
              "      background-color: #434B5C;\n",
              "      box-shadow: 0px 1px 3px 1px rgba(0, 0, 0, 0.15);\n",
              "      filter: drop-shadow(0px 1px 2px rgba(0, 0, 0, 0.3));\n",
              "      fill: #FFFFFF;\n",
              "    }\n",
              "  </style>\n",
              "\n",
              "      <script>\n",
              "        const buttonEl =\n",
              "          document.querySelector('#df-696478af-1bf3-4840-8e36-2af7f263ed07 button.colab-df-convert');\n",
              "        buttonEl.style.display =\n",
              "          google.colab.kernel.accessAllowed ? 'block' : 'none';\n",
              "\n",
              "        async function convertToInteractive(key) {\n",
              "          const element = document.querySelector('#df-696478af-1bf3-4840-8e36-2af7f263ed07');\n",
              "          const dataTable =\n",
              "            await google.colab.kernel.invokeFunction('convertToInteractive',\n",
              "                                                     [key], {});\n",
              "          if (!dataTable) return;\n",
              "\n",
              "          const docLinkHtml = 'Like what you see? Visit the ' +\n",
              "            '<a target=\"_blank\" href=https://colab.research.google.com/notebooks/data_table.ipynb>data table notebook</a>'\n",
              "            + ' to learn more about interactive tables.';\n",
              "          element.innerHTML = '';\n",
              "          dataTable['output_type'] = 'display_data';\n",
              "          await google.colab.output.renderOutput(dataTable, element);\n",
              "          const docLink = document.createElement('div');\n",
              "          docLink.innerHTML = docLinkHtml;\n",
              "          element.appendChild(docLink);\n",
              "        }\n",
              "      </script>\n",
              "    </div>\n",
              "  </div>\n",
              "  "
            ],
            "text/plain": [
              "              ID     1-hot  phy-chem  10-factor\n",
              "0        AgenCR1  0.991435  0.221487   0.966328\n",
              "1        AgenCR2  0.015419  0.645862   0.655607\n",
              "2        AgenCR3  0.007090  0.444076   0.111274\n",
              "3        AgenCR4  0.074436  0.881370   0.404372\n",
              "4        AgenCR5  0.004131  0.860673   0.080759\n",
              "...          ...       ...       ...        ...\n",
              "3951  TurtCR261p  0.663449  0.611346   0.390335\n",
              "3952  TurtCR262p  0.976281  0.999953   0.960403\n",
              "3953  TurtCR263p  0.551649  0.019098   0.775349\n",
              "3954  TurtCR264p  0.919085  0.940356   0.336348\n",
              "3955  TurtCR265p  0.788260  0.999852   0.979261\n",
              "\n",
              "[3956 rows x 4 columns]"
            ]
          },
          "metadata": {},
          "execution_count": 9
        }
      ]
    },
    {
      "cell_type": "code",
      "source": [
        "enc = 'phy-chem'\n",
        "my_bins = [i/100 for i in range(0,100,1)]\n",
        "df_yhat.hist(enc,bins=my_bins)\n",
        "#plt.title(f'Prediction probabilities for {enc}')\n",
        "plt.xlabel('Probability')\n",
        "plt.ylabel('Number of sequences')"
      ],
      "metadata": {
        "colab": {
          "base_uri": "https://localhost:8080/",
          "height": 312
        },
        "id": "83wi6flws4D8",
        "outputId": "bb8d7e78-1cc1-4d3f-8aed-03bb8a6ebc44"
      },
      "execution_count": null,
      "outputs": [
        {
          "output_type": "execute_result",
          "data": {
            "text/plain": [
              "Text(0, 0.5, 'Number of sequences')"
            ]
          },
          "metadata": {},
          "execution_count": 10
        },
        {
          "output_type": "display_data",
          "data": {
            "image/png": "[encoded data removed]",
            "text/plain": [
              "<Figure size 432x288 with 1 Axes>"
            ]
          },
          "metadata": {
            "needs_background": "light"
          }
        }
      ]
    },
    {
      "cell_type": "code",
      "source": [
        "df_yhat.to_csv(path+'yhat_seqs_noinsect.csv')"
      ],
      "metadata": {
        "id": "pUMhrzH__Kul"
      },
      "execution_count": null,
      "outputs": []
    },
    {
      "cell_type": "code",
      "source": [
        "pip install -U notebook-as-pdf"
      ],
      "metadata": {
        "id": "E8LO3ARG99AR"
      },
      "execution_count": null,
      "outputs": []
    },
    {
      "cell_type": "code",
      "source": [
        "pip install pyppeteer"
      ],
      "metadata": {
        "colab": {
          "base_uri": "https://localhost:8080/"
        },
        "id": "qcNA_5Dy-DeN",
        "outputId": "ee9bb7be-ab66-4b17-8062-87797552e162"
      },
      "execution_count": null,
      "outputs": [
        {
          "output_type": "stream",
          "name": "stdout",
          "text": [
            "Requirement already satisfied: pyppeteer in /usr/local/lib/python3.7/dist-packages (0.2.6)\n",
            "Requirement already satisfied: websockets<10.0,>=9.1 in /usr/local/lib/python3.7/dist-packages (from pyppeteer) (9.1)\n",
            "Requirement already satisfied: tqdm<5.0.0,>=4.42.1 in /usr/local/lib/python3.7/dist-packages (from pyppeteer) (4.62.3)\n",
            "Requirement already satisfied: urllib3<2.0.0,>=1.25.8 in /usr/local/lib/python3.7/dist-packages (from pyppeteer) (1.26.7)\n",
            "Requirement already satisfied: importlib-metadata>=1.4 in /usr/local/lib/python3.7/dist-packages (from pyppeteer) (4.8.2)\n",
            "Requirement already satisfied: appdirs<2.0.0,>=1.4.3 in /usr/local/lib/python3.7/dist-packages (from pyppeteer) (1.4.4)\n",
            "Requirement already satisfied: pyee<9.0.0,>=8.1.0 in /usr/local/lib/python3.7/dist-packages (from pyppeteer) (8.2.2)\n",
            "Requirement already satisfied: typing-extensions>=3.6.4 in /usr/local/lib/python3.7/dist-packages (from importlib-metadata>=1.4->pyppeteer) (3.10.0.2)\n",
            "Requirement already satisfied: zipp>=0.5 in /usr/local/lib/python3.7/dist-packages (from importlib-metadata>=1.4->pyppeteer) (3.6.0)\n"
          ]
        }
      ]
    }
  ]
}